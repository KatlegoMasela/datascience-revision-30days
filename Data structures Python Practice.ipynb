{
 "cells": [
  {
   "cell_type": "code",
   "execution_count": null,
   "id": "61987164",
   "metadata": {},
   "outputs": [],
   "source": []
  },
  {
   "cell_type": "raw",
   "id": "431144ae",
   "metadata": {},
   "source": [
    "### Python Data Structures::::\n",
    "\n",
    "Python data structures are ways to organize, manage, and store data efficiently for various operations. \n",
    "They can be broadly categorized into built-in and user-defined data structures:\n",
    "Built-in Data Structures\n",
    "These are provided by Python and are ready to use:\n",
    "\n",
    "\n",
    "1. Lists:\n",
    "Ordered, mutable (modifiable), and can store elements of different data types.\n",
    "Example: my_list = [1, \"apple\", 3.14]\n",
    "\n",
    "2. Tuples:\n",
    "Ordered, immutable (cannot be modified after creation), and can store mixed data types.\n",
    "Example: my_tuple = (1, \"banana\", 2.71)\n",
    "\n",
    "3. Dictionaries:\n",
    "Unordered, mutable, and store data as key-value pairs.\n",
    "Example: my_dict = {\"name\": \"Alice\", \"age\": 25}\n",
    "\n",
    "4. Sets:\n",
    "Unordered, mutable, and store unique elements (no duplicates).\n",
    "Example: my_set = {1, 2, 3}\n",
    "\n",
    "5. Strings:\n",
    "Immutable sequences of characters.\n",
    "Example: my_string = \"Hello\"\n",
    "\n",
    "6. Ranges:\n",
    "Immutable sequences of numbers, often used in loops.\n",
    "Example: range(1, 10)\n",
    "\n",
    "\n",
    "\n",
    "### Why Use Data Structures?\n",
    "\n",
    "Efficiently manage and process data.\n",
    "Optimize performance for specific tasks (e.g., searching, sorting, or storing relationships).\n",
    "Enable the implementation of complex algorithms."
   ]
  },
  {
   "cell_type": "raw",
   "id": "5e53ad6b",
   "metadata": {},
   "source": [
    "PYTHON DATA STRUCTURES PRACTICE\n",
    "\n",
    "1. lists\n",
    "2. Tuples\n",
    "3. Sets"
   ]
  },
  {
   "cell_type": "code",
   "execution_count": 45,
   "id": "c4ceb227",
   "metadata": {},
   "outputs": [
    {
     "name": "stdout",
     "output_type": "stream",
     "text": [
      "4\n"
     ]
    }
   ],
   "source": [
    "#lists - unchangible\n",
    "#creating a list called courses\n",
    "courses = [\"Big Data\", \"AI\", \"Data Science\", \"Software\"]\n",
    "\n",
    "#checking the length of list\n",
    "print(len(courses))"
   ]
  },
  {
   "cell_type": "code",
   "execution_count": 46,
   "id": "4236f75d",
   "metadata": {},
   "outputs": [
    {
     "name": "stdout",
     "output_type": "stream",
     "text": [
      "['Big Data', 'AI', 'Data Science']\n"
     ]
    }
   ],
   "source": [
    "#removing items on a list\n",
    "courses.pop()   #removes last item of a list\n",
    "print(courses)"
   ]
  },
  {
   "cell_type": "code",
   "execution_count": 47,
   "id": "cb16febb",
   "metadata": {},
   "outputs": [
    {
     "name": "stdout",
     "output_type": "stream",
     "text": [
      "['Big Data', 'Data Science']\n"
     ]
    }
   ],
   "source": [
    "#removing item on a list\n",
    "courses.remove(\"AI\") #removes index at a specified item\n",
    "print(courses)"
   ]
  },
  {
   "cell_type": "code",
   "execution_count": 51,
   "id": "aa5196e1",
   "metadata": {},
   "outputs": [
    {
     "name": "stdout",
     "output_type": "stream",
     "text": [
      "Big Data\n",
      "AI\n"
     ]
    }
   ],
   "source": [
    "#accessing items of a list using positive indexing\n",
    "print(courses[0])\n",
    "print(courses[1])\n",
    "#start with the first item on the list to the last"
   ]
  },
  {
   "cell_type": "code",
   "execution_count": 52,
   "id": "c3ec682b",
   "metadata": {},
   "outputs": [
    {
     "name": "stdout",
     "output_type": "stream",
     "text": [
      "Data Visualization\n",
      "Data Science\n"
     ]
    }
   ],
   "source": [
    "#accessing items of a list using negative indexing\n",
    "print(courses[-1])\n",
    "print(courses[-2])\n",
    "#starts with the last item on the list to the last"
   ]
  },
  {
   "cell_type": "code",
   "execution_count": 53,
   "id": "017670c3",
   "metadata": {},
   "outputs": [
    {
     "name": "stdout",
     "output_type": "stream",
     "text": [
      "['Big Data', 'AI', 'Data Science', 'Data Visualization']\n"
     ]
    }
   ],
   "source": [
    "#changing an item of a list\n",
    "courses = [\"Big Data\", \"AI\", \"Data Science\", \"Software\"]\n",
    "courses[3] = \"Data Visualization\"\n",
    "print(courses)"
   ]
  },
  {
   "cell_type": "code",
   "execution_count": 72,
   "id": "c6dd8667",
   "metadata": {},
   "outputs": [
    {
     "name": "stdout",
     "output_type": "stream",
     "text": [
      "Big Data\n"
     ]
    }
   ],
   "source": [
    "#accessing items one-by-one\n",
    "#looping through a list\n",
    "courses = [\"Big Data\", \"AI\", \"Data Science\", \"Software\"]\n",
    "\n",
    "if course in courses:\n",
    "    print(\"Big Data\")\n",
    "    \n",
    "else: \n",
    "    print(\"Course Not Found!!!\")"
   ]
  },
  {
   "cell_type": "code",
   "execution_count": 78,
   "id": "29ae5122",
   "metadata": {},
   "outputs": [
    {
     "name": "stdout",
     "output_type": "stream",
     "text": [
      "['Big Data', 'Web Technologies', 'AI', 'Data Science', 'Software']\n"
     ]
    }
   ],
   "source": [
    "#adding items of a list\n",
    "courses = [\"Big Data\", \"AI\", \"Data Science\", \"Software\"]\n",
    "courses.insert(1, \"Web Technologies\") #insert Web Technologies as the second item of a list\n",
    "print(courses)"
   ]
  },
  {
   "cell_type": "code",
   "execution_count": 75,
   "id": "267d9b91",
   "metadata": {},
   "outputs": [
    {
     "name": "stdout",
     "output_type": "stream",
     "text": [
      "True\n",
      "False\n"
     ]
    }
   ],
   "source": [
    "#checking if an item exists\n",
    "print(\"Big Data\" in courses) #returns true hence Big Data is part of the list\n",
    "print(\"Networks\" in courses) #returns false because  Networks in not part of "
   ]
  },
  {
   "cell_type": "code",
   "execution_count": null,
   "id": "b1067ca2",
   "metadata": {},
   "outputs": [],
   "source": []
  },
  {
   "cell_type": "code",
   "execution_count": 56,
   "id": "7e6a8dcd",
   "metadata": {},
   "outputs": [],
   "source": [
    "#tuples - unchangeble\n",
    "\n",
    "names = (\"katlego\", \"Smith\", \"James\")"
   ]
  },
  {
   "cell_type": "code",
   "execution_count": 58,
   "id": "f0eaf660",
   "metadata": {},
   "outputs": [
    {
     "name": "stdout",
     "output_type": "stream",
     "text": [
      "katlego\n",
      "Smith\n",
      "James\n"
     ]
    }
   ],
   "source": [
    "#accessing items of a list using positive indexing\n",
    "print(names[0])\n",
    "print(names[1])\n",
    "print(names[2])\n",
    "#start with the first item on the list to the last"
   ]
  },
  {
   "cell_type": "code",
   "execution_count": 60,
   "id": "7e9f8197",
   "metadata": {},
   "outputs": [
    {
     "name": "stdout",
     "output_type": "stream",
     "text": [
      "James\n",
      "Smith\n",
      "katlego\n"
     ]
    }
   ],
   "source": [
    "#accessing items of a list using negative indexing\n",
    "print(names[-1])\n",
    "print(names[-2])\n",
    "print(names[-3])\n",
    "#starts with the last item on the list to the last"
   ]
  },
  {
   "cell_type": "code",
   "execution_count": 61,
   "id": "12471dd4",
   "metadata": {},
   "outputs": [
    {
     "name": "stdout",
     "output_type": "stream",
     "text": [
      "3\n"
     ]
    }
   ],
   "source": [
    "#getting the length of the tuple\n",
    "print(len(names))"
   ]
  },
  {
   "cell_type": "code",
   "execution_count": 69,
   "id": "3fcb029e",
   "metadata": {},
   "outputs": [
    {
     "name": "stdout",
     "output_type": "stream",
     "text": [
      "('katlego', 'Smith', 'James')\n"
     ]
    }
   ],
   "source": [
    "#looping through a tuple\n",
    "names = (\"katlego\", \"Smith\", \"James\")\n",
    "\n",
    "if \"Smith\" in names:\n",
    "    print(names)\n",
    "    \n",
    "else:\n",
    "    print(\"Name Not Found!!!\")   #returns all the items of a list, because \"Smith\" is part of a list"
   ]
  },
  {
   "cell_type": "code",
   "execution_count": 70,
   "id": "a79caf11",
   "metadata": {},
   "outputs": [
    {
     "name": "stdout",
     "output_type": "stream",
     "text": [
      "Name Not Found!!!\n"
     ]
    }
   ],
   "source": [
    "#looping through a tuple\n",
    "names = (\"katlego\", \"Smith\", \"James\")\n",
    "\n",
    "if \"David\" in names:\n",
    "    print(names)\n",
    "    \n",
    "else:\n",
    "    print(\"Name Not Found!!!\")   #returns \"Name Not Found!!!\", because \"David\" is not part of a list"
   ]
  },
  {
   "cell_type": "code",
   "execution_count": null,
   "id": "23a10803",
   "metadata": {},
   "outputs": [],
   "source": []
  },
  {
   "cell_type": "code",
   "execution_count": 82,
   "id": "3c960d85",
   "metadata": {},
   "outputs": [
    {
     "name": "stdout",
     "output_type": "stream",
     "text": [
      "('katlego', 'Smith', 'James')\n",
      "('Thabo', 'Tee', 'Raymond')\n",
      "('katlego', 'Smith', 'James', 'Thabo', 'Tee', 'Raymond')\n"
     ]
    }
   ],
   "source": [
    "#combining two tuples \n",
    "name1 = (\"katlego\", \"Smith\", \"James\")\n",
    "name2 = (\"Thabo\", \"Tee\", \"Raymond\")\n",
    "\n",
    "print(name1)\n",
    "print(name2)\n",
    "\n",
    "added_tuples = name1 + name2\n",
    "print(added_tuples)\n"
   ]
  },
  {
   "cell_type": "code",
   "execution_count": 85,
   "id": "1fcccee4",
   "metadata": {},
   "outputs": [
    {
     "name": "stdout",
     "output_type": "stream",
     "text": [
      "False\n",
      "True\n"
     ]
    }
   ],
   "source": [
    "#checking if an item exixsts in a tuple\n",
    "print(\"Florence\" in added_tuples) #returns false because Florence is not found\n",
    "print(\"Thabo\" in added_tuples) #returns true because Thabo is part of the tuple"
   ]
  },
  {
   "cell_type": "code",
   "execution_count": null,
   "id": "99a1e0d5",
   "metadata": {},
   "outputs": [],
   "source": []
  },
  {
   "cell_type": "code",
   "execution_count": 88,
   "id": "90269b96",
   "metadata": {},
   "outputs": [],
   "source": [
    "#sets\n",
    "#creating a set with names of colors\n",
    "\n",
    "colors = {\"red\", \"blue\", \"Violet\"}"
   ]
  },
  {
   "cell_type": "code",
   "execution_count": 93,
   "id": "472a1b71",
   "metadata": {},
   "outputs": [
    {
     "name": "stdout",
     "output_type": "stream",
     "text": [
      "3\n"
     ]
    }
   ],
   "source": [
    "#getting the length of a set\n",
    "print(len(colors))"
   ]
  },
  {
   "cell_type": "code",
   "execution_count": 90,
   "id": "f2f7ebb7",
   "metadata": {},
   "outputs": [
    {
     "name": "stdout",
     "output_type": "stream",
     "text": [
      "Black\n",
      "Black\n",
      "Black\n"
     ]
    }
   ],
   "source": [
    "#with sets you cant access your items using positive and negative indexing\n",
    "#hence you must access your items one by one using a for loop\n",
    "\n",
    "for color in colors:\n",
    "    print(\"Black\")"
   ]
  },
  {
   "cell_type": "code",
   "execution_count": 92,
   "id": "069ea990",
   "metadata": {},
   "outputs": [
    {
     "name": "stdout",
     "output_type": "stream",
     "text": [
      "False\n",
      "True\n"
     ]
    }
   ],
   "source": [
    "#checking if an item exists in a set\n",
    "print(\"black\" in colors)\n",
    "print(\"red\" in colors)"
   ]
  },
  {
   "cell_type": "code",
   "execution_count": 105,
   "id": "c205c8cd",
   "metadata": {},
   "outputs": [
    {
     "name": "stdout",
     "output_type": "stream",
     "text": [
      "Difference of the 2 sets:\n",
      " {'red', 'blue', 'Violet'}\n"
     ]
    }
   ],
   "source": [
    "#finding the difference between 2 sets\n",
    "color1 = {\"red\", \"blue\", \"Violet\", \"Brown\"}\n",
    "color2 = {\"black\", \"Blue\", \"Purple\",\"Brown\"}\n",
    "\n",
    "difference = color1 - color2\n",
    "print(\"Difference of the 2 sets:\\n\", difference)"
   ]
  },
  {
   "cell_type": "code",
   "execution_count": null,
   "id": "12bfe2f4",
   "metadata": {},
   "outputs": [],
   "source": []
  },
  {
   "cell_type": "code",
   "execution_count": null,
   "id": "c5be05da",
   "metadata": {},
   "outputs": [],
   "source": []
  }
 ],
 "metadata": {
  "kernelspec": {
   "display_name": "Python 3 (ipykernel)",
   "language": "python",
   "name": "python3"
  },
  "language_info": {
   "codemirror_mode": {
    "name": "ipython",
    "version": 3
   },
   "file_extension": ".py",
   "mimetype": "text/x-python",
   "name": "python",
   "nbconvert_exporter": "python",
   "pygments_lexer": "ipython3",
   "version": "3.11.5"
  }
 },
 "nbformat": 4,
 "nbformat_minor": 5
}
