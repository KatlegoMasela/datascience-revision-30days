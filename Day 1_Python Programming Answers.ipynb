{
 "cells": [
  {
   "cell_type": "markdown",
   "id": "89734649-de1c-452b-a9f8-229a33201cdf",
   "metadata": {},
   "source": [
    "## PYTHON PROGRAMMING DAY ONE REVISION"
   ]
  },
  {
   "cell_type": "code",
   "execution_count": null,
   "id": "fbe59211-e857-41e6-b898-f412bc926366",
   "metadata": {},
   "outputs": [],
   "source": []
  },
  {
   "cell_type": "code",
   "execution_count": 3,
   "id": "d5490571-8e43-4fcc-bf49-c7e71f2c8d64",
   "metadata": {},
   "outputs": [
    {
     "name": "stdin",
     "output_type": "stream",
     "text": [
      "Enter your name: Katlego\n",
      "Enter your age: 21\n"
     ]
    },
    {
     "name": "stdout",
     "output_type": "stream",
     "text": [
      "hello Katlego\n"
     ]
    }
   ],
   "source": [
    "# 1) This program asks for user introduction\n",
    "\n",
    "name = str(input(\"Enter your name:\"))  #asks for users name\n",
    "age = int(input(\"Enter your age:\")) #aks for users age\n",
    "print(f\"hello\", name) #printing a greeting using an f-string \n"
   ]
  },
  {
   "cell_type": "code",
   "execution_count": null,
   "id": "0a974f65-59d0-4e93-be8f-d670d5a467b0",
   "metadata": {},
   "outputs": [],
   "source": []
  },
  {
   "cell_type": "code",
   "execution_count": 6,
   "id": "86549efb-1f3d-43f8-9b23-daf3816074ce",
   "metadata": {},
   "outputs": [
    {
     "name": "stdin",
     "output_type": "stream",
     "text": [
      "Enter your first_name: katlego\n",
      "Enter your last_name: masela\n"
     ]
    },
    {
     "name": "stdout",
     "output_type": "stream",
     "text": [
      "Your full name is katlegomasela\n"
     ]
    }
   ],
   "source": [
    "# 2) Full Name formatter\n",
    "first_name = str(input(\"Enter your first_name:\")) #asks user for their first_name\n",
    "last_name = str(input(\"Enter your last_name:\")) #aks user for their last_name\n",
    "\n",
    "full_name = first_name + \"\" + last_name #Joining the first_name and last_n\n",
    "print(\"Your full name is\", full_name)"
   ]
  },
  {
   "cell_type": "code",
   "execution_count": null,
   "id": "e5561ea6-5306-4737-839f-81c2fe64ee76",
   "metadata": {},
   "outputs": [],
   "source": []
  },
  {
   "cell_type": "code",
   "execution_count": 27,
   "id": "3aed2162-c312-441e-a759-f52080aea8ac",
   "metadata": {},
   "outputs": [
    {
     "name": "stdin",
     "output_type": "stream",
     "text": [
      "Enter your age: 21\n"
     ]
    },
    {
     "name": "stdout",
     "output_type": "stream",
     "text": [
      "26\n",
      "31\n",
      "41\n",
      "Your age in 5 years is 26, Your age in 10 years 31 and Your age in 20 years 41\n"
     ]
    }
   ],
   "source": [
    "# 3) Age in Future\n",
    "age = int(input(\"Enter your age:\"))\n",
    "print(age + 5)\n",
    "print(age + 10)\n",
    "print(age + 20)\n",
    "\n",
    "print(f\"Your age in 5 years is {age + 5}, Your age in 10 years {age + 10} and Your age in 20 years {age + 20}\")"
   ]
  },
  {
   "cell_type": "code",
   "execution_count": null,
   "id": "5d0baaba-5029-4312-af63-01be2cbaf052",
   "metadata": {},
   "outputs": [],
   "source": []
  },
  {
   "cell_type": "code",
   "execution_count": 11,
   "id": "84f3a1ba-4af4-4a9f-b058-081c483cbb2e",
   "metadata": {},
   "outputs": [
    {
     "name": "stdin",
     "output_type": "stream",
     "text": [
      "Enter your favorite number: 30\n"
     ]
    },
    {
     "name": "stdout",
     "output_type": "stream",
     "text": [
      "Your favorite number multiplied by 2 is: 60\n"
     ]
    }
   ],
   "source": [
    "# 4) Favorite Number Double\n",
    "\n",
    "FavoriteNumber = int(input(\"Enter your favorite number:\"))\n",
    "Number = FavoriteNumber_int * 2\n",
    "print(\"Your favorite number multiplied by 2 is:\", Number)\n",
    "\n"
   ]
  },
  {
   "cell_type": "code",
   "execution_count": null,
   "id": "5dafed64-ccd8-4944-b9d6-ea6dd43a4c39",
   "metadata": {},
   "outputs": [],
   "source": []
  },
  {
   "cell_type": "code",
   "execution_count": 13,
   "id": "5e7b4706-b60d-4c2b-9a8a-5458f95995e0",
   "metadata": {},
   "outputs": [
    {
     "name": "stdin",
     "output_type": "stream",
     "text": [
      "Enter your favorite quote: i am who i am\n",
      "Enter the author's name: James Bond\n"
     ]
    },
    {
     "name": "stdout",
     "output_type": "stream",
     "text": [
      "Your favorite quote is i am who i am, and the authors name is James Bond\n"
     ]
    }
   ],
   "source": [
    "# 5) Quote Display \n",
    "quote = str(input(\"Enter your favorite quote:\"))\n",
    "authors_name = str(input(\"Enter the author's name:\"))\n",
    "print(f\"Your favorite quote is {quote}, and the authors name is {authors_name}\")"
   ]
  },
  {
   "cell_type": "code",
   "execution_count": null,
   "id": "50882747-3386-4999-9320-5c350b78c76c",
   "metadata": {},
   "outputs": [],
   "source": []
  },
  {
   "cell_type": "code",
   "execution_count": 15,
   "id": "e0511956-a3ed-4a38-9993-3a88e1f64d8e",
   "metadata": {},
   "outputs": [
    {
     "name": "stdin",
     "output_type": "stream",
     "text": [
      "Enter your age: 20\n",
      "Enter your age: 33\n"
     ]
    },
    {
     "name": "stdout",
     "output_type": "stream",
     "text": [
      "The age difference between the two users is: -13\n"
     ]
    }
   ],
   "source": [
    "# 6) Age difference calculator\n",
    "User_age1 = int(input(\"Enter your age:\")) #asks the first user their age\n",
    "User_age2 = int(input(\"Enter your age:\")) #asks the second user ther age\n",
    "\n",
    "difference = User_age1 - User_age2   #calculating the difference between thier age\n",
    "print(\"The age difference between the two users is:\", difference) #displaying the difference between their age"
   ]
  },
  {
   "cell_type": "code",
   "execution_count": null,
   "id": "fafd4a4b-ad78-4979-9e5c-4bb6ffbd6306",
   "metadata": {},
   "outputs": [],
   "source": []
  },
  {
   "cell_type": "code",
   "execution_count": 29,
   "id": "1d624cb0-326c-45ba-bf2b-2e1bbb66b66b",
   "metadata": {},
   "outputs": [
    {
     "name": "stdin",
     "output_type": "stream",
     "text": [
      "Enter a number of minutes: 21\n"
     ]
    },
    {
     "name": "stdout",
     "output_type": "stream",
     "text": [
      " 21 minutes is 1260 seconds\n"
     ]
    }
   ],
   "source": [
    "# 7) Mintues\n",
    "minutes = int(input(\"Enter a number of minutes:\"))\n",
    "seconds = minutes * 60\n",
    "\n",
    "print(f\" {minutes} minutes is {seconds} seconds\")"
   ]
  },
  {
   "cell_type": "code",
   "execution_count": null,
   "id": "5752dc1a-25be-4d37-9cf7-6d693fb5bcf0",
   "metadata": {},
   "outputs": [],
   "source": []
  },
  {
   "cell_type": "code",
   "execution_count": 18,
   "id": "e250532d-fe33-4f1a-9d79-a9c91b060460",
   "metadata": {},
   "outputs": [
    {
     "name": "stdin",
     "output_type": "stream",
     "text": [
      "Enter your favorite movies: shaka zulu\n",
      "Enter your rating out of 10: 8\n"
     ]
    },
    {
     "name": "stdout",
     "output_type": "stream",
     "text": [
      "You rated shaka zulu a 8/10\n"
     ]
    }
   ],
   "source": [
    "# 8) Movie Rating\n",
    "favorite_movie = str(input(\"Enter your favorite movies:\"))\n",
    "rating = int(input(\"Enter your rating out of 10:\"))\n",
    "print(f\"You rated {favorite_movie} a {rating}/10\")"
   ]
  },
  {
   "cell_type": "code",
   "execution_count": null,
   "id": "9e6067d3-1e4f-4157-b901-189ab71a7449",
   "metadata": {},
   "outputs": [],
   "source": []
  },
  {
   "cell_type": "code",
   "execution_count": 24,
   "id": "caa58871-0970-4e19-aee6-2ba8930c91e1",
   "metadata": {},
   "outputs": [
    {
     "name": "stdin",
     "output_type": "stream",
     "text": [
      "Enter your number as (string): 30\n"
     ]
    },
    {
     "name": "stdout",
     "output_type": "stream",
     "text": [
      "Your interger is: 30 Your float is: 30.0 Your string is: \"30\"\n"
     ]
    }
   ],
   "source": [
    "# 9) Type Conversion Practice\n",
    "str_num = str(input(\"Enter your number as (string):\"))\n",
    "int_num = int(str_num)\n",
    "float_num = float(str_num)\n",
    "print(\"Your interger is:\", int_num, \"Your float is:\", float_num, \"Your string is:\", str_number)"
   ]
  },
  {
   "cell_type": "code",
   "execution_count": null,
   "id": "6fa31776-034b-400c-96d6-8c613347e099",
   "metadata": {},
   "outputs": [],
   "source": []
  },
  {
   "cell_type": "code",
   "execution_count": 19,
   "id": "36bd359b-9367-4870-b8fa-e4c1a57e6457",
   "metadata": {},
   "outputs": [
    {
     "name": "stdin",
     "output_type": "stream",
     "text": [
      "Enter your name: katlego\n",
      "Enter your age: 21\n",
      "Enter your favorite color: blue\n"
     ]
    },
    {
     "name": "stdout",
     "output_type": "stream",
     "text": [
      "Hello katlego You are 21 years old and your favorite color is blue\n"
     ]
    }
   ],
   "source": [
    "# 10) User Info Summary\n",
    "name = str(input(\"Enter your name:\")) #asks user for name\n",
    "age = int(input(\"Enter your age:\"))  #asks user for age\n",
    "favorite_color = str(input(\"Enter your favorite color:\")) #asks user for thier favorite color\n",
    "\n",
    "print(\"Hello\", name, \"You are\", age, \"years old and your favorite color is\", favorite_color)"
   ]
  },
  {
   "cell_type": "code",
   "execution_count": null,
   "id": "afea3c10-d749-4aca-a3a7-78e29d37c11d",
   "metadata": {},
   "outputs": [],
   "source": []
  },
  {
   "cell_type": "code",
   "execution_count": null,
   "id": "ad51d824-94cf-4703-abf8-663070333d94",
   "metadata": {},
   "outputs": [],
   "source": []
  },
  {
   "cell_type": "code",
   "execution_count": null,
   "id": "9a2a8eea-379a-47eb-972c-c6cf8d1bab26",
   "metadata": {},
   "outputs": [],
   "source": []
  }
 ],
 "metadata": {
  "kernelspec": {
   "display_name": "Python (Custom)",
   "language": "python",
   "name": "custom_env"
  },
  "language_info": {
   "codemirror_mode": {
    "name": "ipython",
    "version": 3
   },
   "file_extension": ".py",
   "mimetype": "text/x-python",
   "name": "python",
   "nbconvert_exporter": "python",
   "pygments_lexer": "ipython3",
   "version": "3.11.9"
  }
 },
 "nbformat": 4,
 "nbformat_minor": 5
}
